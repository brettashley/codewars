{
 "cells": [
  {
   "cell_type": "code",
   "execution_count": 138,
   "metadata": {},
   "outputs": [],
   "source": [
    "import string\n",
    "import numpy as np\n",
    "import test"
   ]
  },
  {
   "cell_type": "markdown",
   "metadata": {},
   "source": [
    "## 12/18\n",
    "\n",
    "[Detect Pangram](https://www.codewars.com/kata/545cedaa9943f7fe7b000048/train/python)"
   ]
  },
  {
   "cell_type": "code",
   "execution_count": 29,
   "metadata": {},
   "outputs": [],
   "source": [
    "s = 'The quick, brown fox jumps over the lazy dog!'"
   ]
  },
  {
   "cell_type": "code",
   "execution_count": 30,
   "metadata": {},
   "outputs": [
    {
     "data": {
      "text/plain": [
       "'abcdefghijklmnopqrstuvwxyz'"
      ]
     },
     "execution_count": 30,
     "metadata": {},
     "output_type": "execute_result"
    }
   ],
   "source": [
    "string.ascii_lowercase"
   ]
  },
  {
   "cell_type": "code",
   "execution_count": 31,
   "metadata": {},
   "outputs": [],
   "source": [
    "def is_pangram(s):\n",
    "    remaining_letters = string.ascii_lowercase\n",
    "    for letter in s.lower():\n",
    "        if letter in remaining_letters:\n",
    "            remaining_letters = remaining_letters.replace(letter, '')\n",
    "    return (len(remaining_letters) == 0)"
   ]
  },
  {
   "cell_type": "code",
   "execution_count": 32,
   "metadata": {},
   "outputs": [
    {
     "data": {
      "text/plain": [
       "True"
      ]
     },
     "execution_count": 32,
     "metadata": {},
     "output_type": "execute_result"
    }
   ],
   "source": [
    "is_pangram(s)"
   ]
  },
  {
   "cell_type": "code",
   "execution_count": 33,
   "metadata": {},
   "outputs": [
    {
     "data": {
      "text/plain": [
       "False"
      ]
     },
     "execution_count": 33,
     "metadata": {},
     "output_type": "execute_result"
    }
   ],
   "source": [
    "is_pangram('is this?')"
   ]
  },
  {
   "cell_type": "markdown",
   "metadata": {},
   "source": [
    "## 12/19\n",
    "\n",
    "[Triple Double](https://www.codewars.com/kata/55d5434f269c0c3f1b000058/train/python)"
   ]
  },
  {
   "cell_type": "code",
   "execution_count": 50,
   "metadata": {},
   "outputs": [],
   "source": [
    "num1 = 451999277\n",
    "num2 = 41177722899"
   ]
  },
  {
   "cell_type": "code",
   "execution_count": 54,
   "metadata": {},
   "outputs": [],
   "source": [
    "num1_list = [x for x in str(num1)]\n",
    "num2_list = [x for x in str(num2)]"
   ]
  },
  {
   "cell_type": "code",
   "execution_count": 55,
   "metadata": {},
   "outputs": [
    {
     "data": {
      "text/plain": [
       "['4', '5', '1', '9', '9', '9', '2', '7', '7']"
      ]
     },
     "execution_count": 55,
     "metadata": {},
     "output_type": "execute_result"
    }
   ],
   "source": [
    "num1_list"
   ]
  },
  {
   "cell_type": "code",
   "execution_count": 57,
   "metadata": {},
   "outputs": [],
   "source": [
    "def triple_double(num1, num2):\n",
    "    num1_list = [x for x in str(num1)]\n",
    "    num2_list = [x for x in str(num2)]\n",
    "    n_triple = None\n",
    "    for idx, n in enumerate(num1_list[:-2]):\n",
    "        if n == num1_list[idx + 1] == num1_list[idx + 2]:\n",
    "            n_triple = n\n",
    "    if n_triple is None:\n",
    "        return 0\n",
    "    for idx, n in enumerate(num2_list):\n",
    "        if n_triple == n == num2_list[idx + 1]:\n",
    "            return 1\n",
    "    return 0"
   ]
  },
  {
   "cell_type": "code",
   "execution_count": 58,
   "metadata": {},
   "outputs": [
    {
     "data": {
      "text/plain": [
       "1"
      ]
     },
     "execution_count": 58,
     "metadata": {},
     "output_type": "execute_result"
    }
   ],
   "source": [
    "triple_double(num1, num2)"
   ]
  },
  {
   "cell_type": "markdown",
   "metadata": {},
   "source": [
    "## 12/23\n",
    "\n",
    "[Greed is Good](https://www.codewars.com/kata/5270d0d18625160ada0000e4/train/python)\n",
    "\n",
    "```\n",
    " Three 1's => 1000 points\n",
    " Three 6's =>  600 points\n",
    " Three 5's =>  500 points\n",
    " Three 4's =>  400 points\n",
    " Three 3's =>  300 points\n",
    " Three 2's =>  200 points\n",
    " One   1   =>  100 points\n",
    " One   5   =>   50 point\n",
    " ```"
   ]
  },
  {
   "cell_type": "code",
   "execution_count": 147,
   "metadata": {},
   "outputs": [],
   "source": [
    "dice = [2, 4, 4, 5, 4]"
   ]
  },
  {
   "cell_type": "code",
   "execution_count": 148,
   "metadata": {},
   "outputs": [
    {
     "data": {
      "text/plain": [
       "[2, 4, 4, 5, 4]"
      ]
     },
     "execution_count": 148,
     "metadata": {},
     "output_type": "execute_result"
    }
   ],
   "source": [
    "dice"
   ]
  },
  {
   "cell_type": "code",
   "execution_count": 149,
   "metadata": {},
   "outputs": [
    {
     "data": {
      "text/plain": [
       "0"
      ]
     },
     "execution_count": 149,
     "metadata": {},
     "output_type": "execute_result"
    }
   ],
   "source": [
    "sum(100 for x in a if x == 4)"
   ]
  },
  {
   "cell_type": "code",
   "execution_count": 150,
   "metadata": {},
   "outputs": [],
   "source": [
    "def score(dice):\n",
    "    score = 0\n",
    "    check = dice.copy()\n",
    "    for n in range(1,7):\n",
    "        if check.count(n) >= 3:\n",
    "            for _ in range(3):\n",
    "                check.remove(n)\n",
    "            if n == 1:\n",
    "                score += 1000\n",
    "            else:\n",
    "                score += (n * 100)\n",
    "        if n == 1:\n",
    "            score += sum(100 for num in check if num == 1)\n",
    "        if n == 5:\n",
    "            score += sum(50 for num in check if num == 5)    \n",
    "    return score"
   ]
  },
  {
   "cell_type": "code",
   "execution_count": 152,
   "metadata": {},
   "outputs": [
    {
     "data": {
      "text/plain": [
       "350"
      ]
     },
     "execution_count": 152,
     "metadata": {},
     "output_type": "execute_result"
    }
   ],
   "source": [
    "score([3, 3, 6, 3, 5] )"
   ]
  },
  {
   "cell_type": "code",
   "execution_count": null,
   "metadata": {},
   "outputs": [],
   "source": []
  }
 ],
 "metadata": {
  "kernelspec": {
   "display_name": "Python 3",
   "language": "python",
   "name": "python3"
  },
  "language_info": {
   "codemirror_mode": {
    "name": "ipython",
    "version": 3
   },
   "file_extension": ".py",
   "mimetype": "text/x-python",
   "name": "python",
   "nbconvert_exporter": "python",
   "pygments_lexer": "ipython3",
   "version": "3.6.4"
  }
 },
 "nbformat": 4,
 "nbformat_minor": 2
}
