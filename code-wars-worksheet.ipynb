{
 "cells": [
  {
   "cell_type": "code",
   "execution_count": 3,
   "metadata": {},
   "outputs": [],
   "source": [
    "import string\n",
    "import numpy as np\n",
    "import test"
   ]
  },
  {
   "cell_type": "markdown",
   "metadata": {},
   "source": [
    "## 12/18\n",
    "\n",
    "[Detect Pangram](https://www.codewars.com/kata/545cedaa9943f7fe7b000048/train/python)"
   ]
  },
  {
   "cell_type": "code",
   "execution_count": 29,
   "metadata": {},
   "outputs": [],
   "source": [
    "s = 'The quick, brown fox jumps over the lazy dog!'"
   ]
  },
  {
   "cell_type": "code",
   "execution_count": 30,
   "metadata": {},
   "outputs": [
    {
     "data": {
      "text/plain": [
       "'abcdefghijklmnopqrstuvwxyz'"
      ]
     },
     "execution_count": 30,
     "metadata": {},
     "output_type": "execute_result"
    }
   ],
   "source": [
    "string.ascii_lowercase"
   ]
  },
  {
   "cell_type": "code",
   "execution_count": 31,
   "metadata": {},
   "outputs": [],
   "source": [
    "def is_pangram(s):\n",
    "    remaining_letters = string.ascii_lowercase\n",
    "    for letter in s.lower():\n",
    "        if letter in remaining_letters:\n",
    "            remaining_letters = remaining_letters.replace(letter, '')\n",
    "    return (len(remaining_letters) == 0)"
   ]
  },
  {
   "cell_type": "code",
   "execution_count": 32,
   "metadata": {},
   "outputs": [
    {
     "data": {
      "text/plain": [
       "True"
      ]
     },
     "execution_count": 32,
     "metadata": {},
     "output_type": "execute_result"
    }
   ],
   "source": [
    "is_pangram(s)"
   ]
  },
  {
   "cell_type": "code",
   "execution_count": 33,
   "metadata": {},
   "outputs": [
    {
     "data": {
      "text/plain": [
       "False"
      ]
     },
     "execution_count": 33,
     "metadata": {},
     "output_type": "execute_result"
    }
   ],
   "source": [
    "is_pangram('is this?')"
   ]
  },
  {
   "cell_type": "markdown",
   "metadata": {},
   "source": [
    "## 12/19\n",
    "\n",
    "[Triple Double](https://www.codewars.com/kata/55d5434f269c0c3f1b000058/train/python)"
   ]
  },
  {
   "cell_type": "code",
   "execution_count": 50,
   "metadata": {},
   "outputs": [],
   "source": [
    "num1 = 451999277\n",
    "num2 = 41177722899"
   ]
  },
  {
   "cell_type": "code",
   "execution_count": 54,
   "metadata": {},
   "outputs": [],
   "source": [
    "num1_list = [x for x in str(num1)]\n",
    "num2_list = [x for x in str(num2)]"
   ]
  },
  {
   "cell_type": "code",
   "execution_count": 55,
   "metadata": {},
   "outputs": [
    {
     "data": {
      "text/plain": [
       "['4', '5', '1', '9', '9', '9', '2', '7', '7']"
      ]
     },
     "execution_count": 55,
     "metadata": {},
     "output_type": "execute_result"
    }
   ],
   "source": [
    "num1_list"
   ]
  },
  {
   "cell_type": "code",
   "execution_count": 57,
   "metadata": {},
   "outputs": [],
   "source": [
    "def triple_double(num1, num2):\n",
    "    num1_list = [x for x in str(num1)]\n",
    "    num2_list = [x for x in str(num2)]\n",
    "    n_triple = None\n",
    "    for idx, n in enumerate(num1_list[:-2]):\n",
    "        if n == num1_list[idx + 1] == num1_list[idx + 2]:\n",
    "            n_triple = n\n",
    "    if n_triple is None:\n",
    "        return 0\n",
    "    for idx, n in enumerate(num2_list):\n",
    "        if n_triple == n == num2_list[idx + 1]:\n",
    "            return 1\n",
    "    return 0"
   ]
  },
  {
   "cell_type": "code",
   "execution_count": 58,
   "metadata": {},
   "outputs": [
    {
     "data": {
      "text/plain": [
       "1"
      ]
     },
     "execution_count": 58,
     "metadata": {},
     "output_type": "execute_result"
    }
   ],
   "source": [
    "triple_double(num1, num2)"
   ]
  },
  {
   "cell_type": "markdown",
   "metadata": {},
   "source": [
    "## 12/23\n",
    "\n",
    "[Greed is Good](https://www.codewars.com/kata/5270d0d18625160ada0000e4/train/python)\n",
    "\n",
    "```\n",
    " Three 1's => 1000 points\n",
    " Three 6's =>  600 points\n",
    " Three 5's =>  500 points\n",
    " Three 4's =>  400 points\n",
    " Three 3's =>  300 points\n",
    " Three 2's =>  200 points\n",
    " One   1   =>  100 points\n",
    " One   5   =>   50 point\n",
    " ```"
   ]
  },
  {
   "cell_type": "code",
   "execution_count": 147,
   "metadata": {},
   "outputs": [],
   "source": [
    "dice = [2, 4, 4, 5, 4]"
   ]
  },
  {
   "cell_type": "code",
   "execution_count": 148,
   "metadata": {},
   "outputs": [
    {
     "data": {
      "text/plain": [
       "[2, 4, 4, 5, 4]"
      ]
     },
     "execution_count": 148,
     "metadata": {},
     "output_type": "execute_result"
    }
   ],
   "source": [
    "dice"
   ]
  },
  {
   "cell_type": "code",
   "execution_count": 149,
   "metadata": {},
   "outputs": [
    {
     "data": {
      "text/plain": [
       "0"
      ]
     },
     "execution_count": 149,
     "metadata": {},
     "output_type": "execute_result"
    }
   ],
   "source": [
    "sum(100 for x in a if x == 4)"
   ]
  },
  {
   "cell_type": "code",
   "execution_count": 150,
   "metadata": {},
   "outputs": [],
   "source": [
    "def score(dice):\n",
    "    score = 0\n",
    "    check = dice.copy()\n",
    "    for n in range(1,7):\n",
    "        if check.count(n) >= 3:\n",
    "            for _ in range(3):\n",
    "                check.remove(n)\n",
    "            if n == 1:\n",
    "                score += 1000\n",
    "            else:\n",
    "                score += (n * 100)\n",
    "        if n == 1:\n",
    "            score += sum(100 for num in check if num == 1)\n",
    "        if n == 5:\n",
    "            score += sum(50 for num in check if num == 5)    \n",
    "    return score"
   ]
  },
  {
   "cell_type": "code",
   "execution_count": 152,
   "metadata": {},
   "outputs": [
    {
     "data": {
      "text/plain": [
       "350"
      ]
     },
     "execution_count": 152,
     "metadata": {},
     "output_type": "execute_result"
    }
   ],
   "source": [
    "score([3, 3, 6, 3, 5] )"
   ]
  },
  {
   "cell_type": "markdown",
   "metadata": {},
   "source": [
    "## 12/15\n",
    "\n",
    "[Easy Balance Checking](https://www.codewars.com/kata/easy-balance-checking)\n",
    "\n",
    "Input:\n",
    "```\n",
    "\"1000.00\n",
    "125 Market 125.45\n",
    "126 Hardware 34.95\n",
    "127 Video 7.45\n",
    "128 Book 14.32\n",
    "129 Gasoline 16.10\"\n",
    "```\n",
    "\n",
    "Output:\n",
    "```\n",
    "\"Original_Balance:_1000.00\n",
    "125_Market_125.45_Balance_874.55\n",
    "126_Hardware_34.95_Balance_839.60\n",
    "127_Video_7.45_Balance_832.15\n",
    "128_Book_14.32_Balance_817.83\n",
    "129_Gasoline_16.10_Balance_801.73\n",
    "Total_expense__198.27\n",
    "Average_expense__39.65\"\n",
    "```"
   ]
  },
  {
   "cell_type": "code",
   "execution_count": 4,
   "metadata": {},
   "outputs": [],
   "source": [
    "b1 = \"\"\"1000.00!=\n",
    "125 Market !=:125.45\n",
    "126 Hardware =34.95\n",
    "127 Video! 7.45\n",
    "128 Book :14.32\n",
    "129 Gasoline ::16.10\n",
    "\"\"\""
   ]
  },
  {
   "cell_type": "code",
   "execution_count": 5,
   "metadata": {},
   "outputs": [
    {
     "data": {
      "text/plain": [
       "['1000.00!=',\n",
       " '125 Market !=:125.45',\n",
       " '126 Hardware =34.95',\n",
       " '127 Video! 7.45',\n",
       " '128 Book :14.32',\n",
       " '129 Gasoline ::16.10',\n",
       " '']"
      ]
     },
     "execution_count": 5,
     "metadata": {},
     "output_type": "execute_result"
    }
   ],
   "source": [
    "b1.split('\\n')"
   ]
  },
  {
   "cell_type": "code",
   "execution_count": 6,
   "metadata": {},
   "outputs": [],
   "source": [
    "b1_stripped = ''.join([char for char in b1 if char in (string.ascii_letters + string.digits + '\\n' + ' ')])"
   ]
  },
  {
   "cell_type": "code",
   "execution_count": 7,
   "metadata": {},
   "outputs": [
    {
     "data": {
      "text/plain": [
       "'100000\\n125 Market 12545\\n126 Hardware 3495\\n127 Video 745\\n128 Book 1432\\n129 Gasoline 1610\\n'"
      ]
     },
     "execution_count": 7,
     "metadata": {},
     "output_type": "execute_result"
    }
   ],
   "source": [
    "b1_stripped"
   ]
  },
  {
   "cell_type": "code",
   "execution_count": 8,
   "metadata": {},
   "outputs": [],
   "source": [
    "b1_list = b1_stripped.split('\\n')"
   ]
  },
  {
   "cell_type": "code",
   "execution_count": 9,
   "metadata": {},
   "outputs": [
    {
     "data": {
      "text/plain": [
       "['100000',\n",
       " '125 Market 12545',\n",
       " '126 Hardware 3495',\n",
       " '127 Video 745',\n",
       " '128 Book 1432',\n",
       " '129 Gasoline 1610',\n",
       " '']"
      ]
     },
     "execution_count": 9,
     "metadata": {},
     "output_type": "execute_result"
    }
   ],
   "source": [
    "b1_list"
   ]
  },
  {
   "cell_type": "code",
   "execution_count": 10,
   "metadata": {},
   "outputs": [],
   "source": [
    "balance = float(b1_list[0])"
   ]
  },
  {
   "cell_type": "code",
   "execution_count": 11,
   "metadata": {},
   "outputs": [
    {
     "data": {
      "text/plain": [
       "'Original_Balance:_100000.00'"
      ]
     },
     "execution_count": 11,
     "metadata": {},
     "output_type": "execute_result"
    }
   ],
   "source": [
    "'Original_Balance:_{:.2f}'.format(balance)"
   ]
  },
  {
   "cell_type": "code",
   "execution_count": 12,
   "metadata": {},
   "outputs": [
    {
     "data": {
      "text/plain": [
       "['100000',\n",
       " '125 Market 12545',\n",
       " '126 Hardware 3495',\n",
       " '127 Video 745',\n",
       " '128 Book 1432',\n",
       " '129 Gasoline 1610',\n",
       " '']"
      ]
     },
     "execution_count": 12,
     "metadata": {},
     "output_type": "execute_result"
    }
   ],
   "source": [
    "b1_list"
   ]
  },
  {
   "cell_type": "code",
   "execution_count": 61,
   "metadata": {},
   "outputs": [],
   "source": [
    "def balance(b):\n",
    "    from string import ascii_letters, digits\n",
    "    chars_to_save = ascii_letters + digits + '\\n' + ' ' + '.'\n",
    "    b_stripped = (''.join([char for char in b if char in chars_to_save]))\n",
    "    b_list = b_stripped.split('\\n')\n",
    "    while '' in b_list:\n",
    "        b_list.remove('')\n",
    "    balance = float(b_list[0])\n",
    "    output = 'Original Balance: {:.2f}\\r\\n'.format(balance)\n",
    "    expenses = []\n",
    "    for line in b_list[1:]:\n",
    "        entry = line.split()\n",
    "        expense = float(entry[2])\n",
    "        expenses.append(expense)\n",
    "        balance -= expense\n",
    "        output += ('{} {} {:.2f} Balance {:.2f}\\r\\n'.format(\n",
    "            entry[0],\n",
    "            entry[1],\n",
    "            expense,\n",
    "            balance\n",
    "            ))\n",
    "    output += ('Total expense  {:.2f}\\r\\n'.format(sum(expenses)))\n",
    "    output += ('Average expense  {:.2f}'.format(sum(expenses)/len(expenses)))\n",
    "    return output\n",
    "    "
   ]
  },
  {
   "cell_type": "code",
   "execution_count": 62,
   "metadata": {},
   "outputs": [],
   "source": [
    " check = balance(b1)"
   ]
  },
  {
   "cell_type": "code",
   "execution_count": 60,
   "metadata": {},
   "outputs": [
    {
     "name": "stdout",
     "output_type": "stream",
     "text": [
      "False\n"
     ]
    }
   ],
   "source": [
    "print(_)"
   ]
  },
  {
   "cell_type": "code",
   "execution_count": 55,
   "metadata": {},
   "outputs": [],
   "source": [
    "b1sol = \"\"\"Original Balance: 1000.00\\r\n",
    "125 Market 125.45 Balance 874.55\\r\n",
    "126 Hardware 34.95 Balance 839.60\\r\n",
    "127 Video 7.45 Balance 832.15\\r\n",
    "128 Book 14.32 Balance 817.83\\r\n",
    "129 Gasoline 16.10 Balance 801.73\\r\n",
    "Total expense  198.27\\r\n",
    "Average expense  39.65\"\"\""
   ]
  },
  {
   "cell_type": "code",
   "execution_count": 63,
   "metadata": {},
   "outputs": [
    {
     "data": {
      "text/plain": [
       "True"
      ]
     },
     "execution_count": 63,
     "metadata": {},
     "output_type": "execute_result"
    }
   ],
   "source": [
    "b1sol == check"
   ]
  },
  {
   "cell_type": "code",
   "execution_count": 57,
   "metadata": {},
   "outputs": [
    {
     "ename": "TypeError",
     "evalue": "unsupported operand type(s) for -: 'str' and 'str'",
     "output_type": "error",
     "traceback": [
      "\u001b[0;31m---------------------------------------------------------------------------\u001b[0m",
      "\u001b[0;31mTypeError\u001b[0m                                 Traceback (most recent call last)",
      "\u001b[0;32m<ipython-input-57-5f8cf01ecce5>\u001b[0m in \u001b[0;36m<module>\u001b[0;34m()\u001b[0m\n\u001b[0;32m----> 1\u001b[0;31m \u001b[0mcheck\u001b[0m \u001b[0;34m-\u001b[0m \u001b[0mb1sol\u001b[0m\u001b[0;34m\u001b[0m\u001b[0m\n\u001b[0m",
      "\u001b[0;31mTypeError\u001b[0m: unsupported operand type(s) for -: 'str' and 'str'"
     ]
    }
   ],
   "source": []
  },
  {
   "cell_type": "code",
   "execution_count": null,
   "metadata": {},
   "outputs": [],
   "source": []
  }
 ],
 "metadata": {
  "kernelspec": {
   "display_name": "Python 3",
   "language": "python",
   "name": "python3"
  },
  "language_info": {
   "codemirror_mode": {
    "name": "ipython",
    "version": 3
   },
   "file_extension": ".py",
   "mimetype": "text/x-python",
   "name": "python",
   "nbconvert_exporter": "python",
   "pygments_lexer": "ipython3",
   "version": "3.6.4"
  }
 },
 "nbformat": 4,
 "nbformat_minor": 2
}
